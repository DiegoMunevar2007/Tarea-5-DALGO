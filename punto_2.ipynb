{
 "cells": [
  {
   "cell_type": "markdown",
   "id": "39deecdd",
   "metadata": {},
   "source": [
    "### Generador de grafos no dirigidos\n",
    "Construya un generador de grafos no dirigidos, no ponderados, cuyos parámetros de\n",
    "entrada son |V | = n (número de nodos), y k (tamaño del clique máximo k < n). El grafo generado\n",
    "debe tener n nodos y un clique máximo de tamaño k y aristas aleatorias. El formato de salida se\n",
    "debe especificar en un archivo README."
   ]
  },
  {
   "cell_type": "code",
   "execution_count": 26,
   "id": "91c563e6",
   "metadata": {},
   "outputs": [],
   "source": [
    "def crear_arista(grafo:dict, origen:int,destino:int):\n",
    "    adyacentes_origen=grafo[origen]\n",
    "    if destino not in adyacentes_origen:\n",
    "        adyacentes_origen.append(destino)\n",
    "    adyacentes_origen.sort() # No es necesario pero para que se vea más bonito xd\n",
    "    adyacentes_destino = grafo[destino]\n",
    "    if origen not in adyacentes_destino:\n",
    "        adyacentes_destino.append(origen)\n",
    "    adyacentes_destino.sort()\n",
    "    "
   ]
  },
  {
   "cell_type": "code",
   "execution_count": 27,
   "id": "3b6c4c65",
   "metadata": {},
   "outputs": [
    {
     "name": "stdout",
     "output_type": "stream",
     "text": [
      "([66, 87, 56, 51, 4, 25, 94, 9, 73, 33, 17, 83, 30, 79, 76, 18, 81, 0, 29, 16], {0: [4, 9, 10, 13, 16, 17, 18, 24, 25, 26, 29, 30, 33, 34, 46, 48, 51, 55, 56, 66, 70, 73, 74, 76, 79, 81, 83, 87, 93, 94, 95], 1: [2, 17, 21, 53, 55, 60, 64, 69, 77, 78, 93], 2: [1, 5, 12, 19, 23, 31, 32, 34, 49, 72, 86, 92], 3: [4, 28, 75, 79, 81, 92], 4: [0, 3, 8, 9, 16, 17, 18, 25, 26, 29, 30, 33, 34, 40, 46, 49, 51, 56, 57, 66, 73, 76, 78, 79, 81, 83, 87, 93, 94], 5: [2, 6, 17, 38, 41, 53, 57, 62, 65, 78, 82, 83], 6: [5, 19, 22, 23, 37, 38, 43, 57, 60, 68, 71, 75, 86, 95], 7: [15, 45, 75, 84], 8: [4, 15, 31, 39, 41, 66, 69, 72, 84, 86, 87, 99], 9: [0, 4, 16, 17, 18, 21, 25, 29, 30, 32, 33, 49, 51, 56, 66, 73, 76, 79, 81, 83, 87, 94], 10: [0, 26, 35, 38, 43, 68, 79, 87, 93], 11: [23, 24, 29, 31, 36, 53, 65, 72, 82, 86, 96], 12: [2, 27, 37, 53, 56, 70, 71], 13: [0, 20, 25, 26, 45, 58, 66, 73, 84, 86, 92, 99], 14: [18, 29, 33, 35, 70, 85, 96], 15: [7, 8, 65, 76, 91], 16: [0, 4, 9, 17, 18, 19, 20, 21, 25, 29, 30, 31, 33, 35, 41, 49, 51, 56, 66, 73, 76, 79, 81, 83, 87, 88, 89, 94], 17: [0, 1, 4, 5, 9, 16, 18, 25, 29, 30, 33, 36, 50, 51, 56, 65, 66, 71, 73, 74, 76, 79, 81, 83, 84, 87, 94, 98], 18: [0, 4, 9, 14, 16, 17, 21, 24, 25, 28, 29, 30, 33, 51, 56, 64, 66, 72, 73, 76, 79, 80, 81, 83, 87, 89, 94, 99], 19: [2, 6, 16, 35, 44, 46, 47, 48, 49, 50, 52, 68, 71, 79], 20: [13, 16, 25, 67, 71], 21: [1, 9, 16, 18, 33, 45, 69, 75, 76, 85, 97], 22: [6, 56, 73, 78, 96, 98], 23: [2, 6, 11, 24, 69, 72, 78, 79, 84], 24: [0, 11, 18, 23, 31, 46, 55, 56, 57, 65, 67, 70, 72, 78, 80], 25: [0, 4, 9, 13, 16, 17, 18, 20, 29, 30, 33, 44, 47, 51, 56, 66, 73, 76, 79, 81, 83, 87, 94], 26: [0, 4, 10, 13, 39, 57, 63, 65], 27: [12, 29, 39, 44, 59, 68], 28: [3, 18, 30, 31, 32, 35, 40, 49, 52, 56, 73, 94, 95, 96, 99], 29: [0, 4, 9, 11, 14, 16, 17, 18, 25, 27, 30, 33, 35, 48, 50, 51, 52, 56, 66, 69, 73, 76, 79, 81, 83, 87, 94], 30: [0, 4, 9, 16, 17, 18, 25, 28, 29, 33, 47, 51, 56, 62, 66, 73, 75, 76, 79, 81, 83, 87, 91, 94, 95], 31: [2, 8, 11, 16, 24, 28, 45, 57, 75, 83], 32: [2, 9, 28, 65, 72, 82, 96, 98], 33: [0, 4, 9, 14, 16, 17, 18, 21, 25, 29, 30, 51, 53, 56, 66, 73, 76, 79, 81, 83, 87, 90, 94, 98], 34: [0, 2, 4, 36, 56, 59, 74, 86], 35: [10, 14, 16, 19, 28, 29], 36: [11, 17, 34, 39, 72, 76, 78, 89], 37: [6, 12, 41, 42, 45, 59, 62, 79, 81, 84, 96], 38: [5, 6, 10, 57, 59, 62, 76], 39: [8, 26, 27, 36, 45, 78, 89], 40: [4, 28, 45, 46, 58, 61, 62, 69, 86, 93, 94], 41: [5, 8, 16, 37, 43, 71, 72], 42: [37, 47, 51, 53, 60, 63, 78, 85], 43: [6, 10, 41, 54, 70, 78], 44: [19, 25, 27, 51, 56, 75, 80], 45: [7, 13, 21, 31, 37, 39, 40, 49, 56, 67, 68, 84, 89], 46: [0, 4, 19, 24, 40], 47: [19, 25, 30, 42, 55, 71, 84, 85, 95, 96], 48: [0, 19, 29, 49, 56, 65, 78, 99], 49: [2, 4, 9, 16, 19, 28, 45, 48, 54, 55, 63, 66, 67, 68, 77, 98], 50: [17, 19, 29, 67, 75, 90, 91], 51: [0, 4, 9, 16, 17, 18, 25, 29, 30, 33, 42, 44, 54, 56, 57, 65, 66, 70, 73, 76, 79, 81, 83, 87, 94, 96], 52: [19, 28, 29, 72, 73, 81, 83, 88, 99], 53: [1, 5, 11, 12, 33, 42, 57, 66, 75, 77, 87, 89], 54: [43, 49, 51, 62, 75, 80, 81, 94], 55: [0, 1, 24, 47, 49, 86, 89], 56: [0, 4, 9, 12, 16, 17, 18, 22, 24, 25, 28, 29, 30, 33, 34, 44, 45, 48, 51, 57, 60, 66, 72, 73, 76, 79, 81, 83, 87, 88, 94], 57: [4, 5, 6, 24, 26, 31, 38, 51, 53, 56, 60], 58: [13, 40, 64, 73, 75, 99], 59: [27, 34, 37, 38, 73], 60: [1, 6, 42, 56, 57, 66, 70, 84, 99], 61: [40, 67, 71, 73, 88, 98], 62: [5, 30, 37, 38, 40, 54, 63, 69, 86, 88], 63: [26, 42, 49, 62, 67, 71, 78, 89, 92], 64: [1, 18, 58, 71, 84, 95], 65: [5, 11, 15, 17, 24, 26, 32, 48, 51, 69, 87], 66: [0, 4, 8, 9, 13, 16, 17, 18, 25, 29, 30, 33, 49, 51, 53, 56, 60, 73, 75, 76, 77, 79, 81, 83, 87, 94, 97], 67: [20, 24, 45, 49, 50, 61, 63, 72, 77, 78], 68: [6, 10, 19, 27, 45, 49, 77, 78], 69: [1, 8, 21, 23, 29, 40, 62, 65, 70, 74, 94, 95, 97], 70: [0, 12, 14, 24, 43, 51, 60, 69, 72, 83], 71: [6, 12, 17, 19, 20, 41, 47, 61, 63, 64, 77, 90, 91], 72: [2, 8, 11, 18, 23, 24, 32, 36, 41, 52, 56, 67, 70, 74, 79, 95, 98], 73: [0, 4, 9, 13, 16, 17, 18, 22, 25, 28, 29, 30, 33, 51, 52, 56, 58, 59, 61, 66, 76, 79, 80, 81, 83, 87, 89, 94], 74: [0, 17, 34, 69, 72, 83, 84, 93, 95], 75: [3, 6, 7, 21, 30, 31, 44, 50, 53, 54, 58, 66, 82, 84, 95], 76: [0, 4, 9, 15, 16, 17, 18, 21, 25, 29, 30, 33, 36, 38, 51, 56, 66, 73, 79, 81, 83, 87, 94], 77: [1, 49, 53, 66, 67, 68, 71, 80], 78: [1, 4, 5, 22, 23, 24, 36, 39, 42, 43, 48, 63, 67, 68, 86, 99], 79: [0, 3, 4, 9, 10, 16, 17, 18, 19, 23, 25, 29, 30, 33, 37, 51, 56, 66, 72, 73, 76, 81, 83, 87, 94, 99], 80: [18, 24, 44, 54, 73, 77, 86], 81: [0, 3, 4, 9, 16, 17, 18, 25, 29, 30, 33, 37, 51, 52, 54, 56, 66, 73, 76, 79, 83, 87, 94, 98], 82: [5, 11, 32, 75, 94, 99], 83: [0, 4, 5, 9, 16, 17, 18, 25, 29, 30, 31, 33, 51, 52, 56, 66, 70, 73, 74, 76, 79, 81, 87, 89, 94], 84: [7, 8, 13, 17, 23, 37, 45, 47, 60, 64, 74, 75], 85: [14, 21, 42, 47, 91], 86: [2, 6, 8, 11, 13, 34, 40, 55, 62, 78, 80], 87: [0, 4, 8, 9, 10, 16, 17, 18, 25, 29, 30, 33, 51, 53, 56, 65, 66, 73, 76, 79, 81, 83, 90, 94], 88: [16, 52, 56, 61, 62], 89: [16, 18, 36, 39, 45, 53, 55, 63, 73, 83], 90: [33, 50, 71, 87], 91: [15, 30, 50, 71, 85, 92], 92: [2, 3, 13, 63, 91], 93: [0, 1, 4, 10, 40, 74, 99], 94: [0, 4, 9, 16, 17, 18, 25, 28, 29, 30, 33, 40, 51, 54, 56, 66, 69, 73, 76, 79, 81, 82, 83, 87, 96], 95: [0, 6, 28, 30, 47, 64, 69, 72, 74, 75], 96: [11, 14, 22, 28, 32, 37, 47, 51, 94], 97: [21, 66, 69], 98: [17, 22, 32, 33, 49, 61, 72, 81], 99: [8, 13, 18, 28, 48, 52, 58, 60, 78, 79, 82, 93]}, 433)\n"
     ]
    }
   ],
   "source": [
    "import random as rand\n",
    "def generador(num_nodos:int, tamanio_clique:int)->tuple:\n",
    "    if tamanio_clique>=num_nodos:\n",
    "        return {}\n",
    "    \n",
    "    # Estructuras iniciales\n",
    "    nodos_clique=[]\n",
    "    grafo={}\n",
    "    \n",
    "    # Crear las listas de adyacencia\n",
    "    for i in range(num_nodos):\n",
    "        grafo[i]=[]\n",
    "\n",
    "    # Generar los nodos random que van a hacer parte del clique\n",
    "    while len(nodos_clique)<tamanio_clique:\n",
    "        nodo_random = rand.randrange(0,num_nodos)\n",
    "        if nodo_random not in nodos_clique:\n",
    "            nodos_clique.append(nodo_random)\n",
    "    \n",
    "    # Generar las aristas no dirigidas y no ponderadas del clique     \n",
    "    \n",
    "    for idx_origen in range(len(nodos_clique)):\n",
    "        for idx_destino in range(idx_origen+1,len(nodos_clique)):\n",
    "            crear_arista(grafo,nodos_clique[idx_origen],nodos_clique[idx_destino])\n",
    "            \n",
    "    num_aristas_clique=tamanio_clique*(tamanio_clique-1)//2\n",
    "    num_aristas_total=num_nodos*(num_nodos-1)//2\n",
    "    \n",
    "    # Aristas aleatorias\n",
    "    aristas_extra=rand.randrange(1,num_aristas_total-num_aristas_clique-1)//3 #-1 y // 3 para que no termine de generar un grafo completo\n",
    "    aristas_creadas=0\n",
    "    \n",
    "    while aristas_creadas<aristas_extra:\n",
    "        origen_random = rand.randint(0,num_nodos-1)\n",
    "        destino_random = rand.randint(0,num_nodos-1)\n",
    "        if origen_random!=destino_random and origen_random not in grafo[destino_random] and destino_random not in grafo[origen_random]:\n",
    "            crear_arista(grafo,origen_random,destino_random)\n",
    "            aristas_creadas+=1\n",
    "            \n",
    "    return nodos_clique,grafo,aristas_extra\n",
    "print(generador(100,20))"
   ]
  },
  {
   "cell_type": "markdown",
   "id": "8fcfa945",
   "metadata": {},
   "source": [
    "## Algoritmo Genético\n",
    "Aquí iría un increible algoritmo genético"
   ]
  },
  {
   "cell_type": "code",
   "execution_count": 28,
   "id": "f66f4b57",
   "metadata": {},
   "outputs": [],
   "source": [
    "import pyeasyga.pyeasyga as galib"
   ]
  },
  {
   "cell_type": "code",
   "execution_count": 29,
   "id": "60601cfd",
   "metadata": {},
   "outputs": [
    {
     "ename": "ValueError",
     "evalue": "invalid literal for int() with base 10: ''",
     "output_type": "error",
     "traceback": [
      "\u001b[1;31m---------------------------------------------------------------------------\u001b[0m",
      "\u001b[1;31mValueError\u001b[0m                                Traceback (most recent call last)",
      "Cell \u001b[1;32mIn[29], line 1\u001b[0m\n\u001b[1;32m----> 1\u001b[0m num_nodos \u001b[38;5;241m=\u001b[39m \u001b[38;5;28;43mint\u001b[39;49m\u001b[43m(\u001b[49m\u001b[38;5;28;43minput\u001b[39;49m\u001b[43m(\u001b[49m\u001b[38;5;124;43m\"\u001b[39;49m\u001b[38;5;124;43mIngrese el número de nodos en el grafo (n): \u001b[39;49m\u001b[38;5;124;43m\"\u001b[39;49m\u001b[43m)\u001b[49m\u001b[43m)\u001b[49m\n\u001b[0;32m      2\u001b[0m clique_max \u001b[38;5;241m=\u001b[39m \u001b[38;5;28mint\u001b[39m(\u001b[38;5;28minput\u001b[39m(\u001b[38;5;124m\"\u001b[39m\u001b[38;5;124mIngrese el clique máximo que desea en el grafo (k<n): \u001b[39m\u001b[38;5;124m\"\u001b[39m))\n\u001b[0;32m      3\u001b[0m nodos_clique,grafo,aristas_extra\u001b[38;5;241m=\u001b[39mgenerador(num_nodos,clique_max)\n",
      "\u001b[1;31mValueError\u001b[0m: invalid literal for int() with base 10: ''"
     ]
    }
   ],
   "source": [
    "num_nodos = int(input(\"Ingrese el número de nodos en el grafo (n): \"))\n",
    "clique_max = int(input(\"Ingrese el clique máximo que desea en el grafo (k<n): \"))\n",
    "nodos_clique,grafo,aristas_extra=generador(num_nodos,clique_max)"
   ]
  },
  {
   "cell_type": "code",
   "execution_count": null,
   "id": "8f3f2b7a",
   "metadata": {},
   "outputs": [],
   "source": [
    "import networkx as nx\n",
    "import matplotlib.pyplot as plt\n",
    "def dibujar_grafo(grafo):\n",
    "    G = nx.DiGraph()\n",
    "\n",
    "    for origen, destinos in grafo.items():\n",
    "        for destino in destinos:\n",
    "            G.add_edge(origen, destino)\n",
    "\n",
    "    plt.figure(figsize=(15, 15))\n",
    "    nx.draw(G, with_labels=True, node_color='skyblue', node_size=200, arrowstyle='-|>', arrowsize=2)\n",
    "    plt.title(\"Grafo\")\n",
    "    plt.show()\n",
    "dibujar_grafo(grafo)"
   ]
  },
  {
   "cell_type": "code",
   "execution_count": null,
   "id": "77be7dbe",
   "metadata": {},
   "outputs": [],
   "source": [
    "ga = galib.GeneticAlgorithm(grafo,population_size=50,\n",
    "                           generations=10000,\n",
    "                           crossover_probability=0.8,\n",
    "                           mutation_probability=0.05,\n",
    "                           elitism=True,\n",
    "                           maximise_fitness=True)"
   ]
  },
  {
   "cell_type": "markdown",
   "id": "de94b8b5",
   "metadata": {},
   "source": [
    "##### Representación\n",
    "La representación para el grafo va a ser en la forma de una lista [], cuya longitud será en el rango $[0,N]$, donde $N$ es el número de nodos del grafo. Esta longitud puede ser variante para representar los nodos que hacen parte de la instancia del individuo para el clique."
   ]
  },
  {
   "cell_type": "code",
   "execution_count": null,
   "id": "c8bf75e1",
   "metadata": {},
   "outputs": [],
   "source": [
    "def crear_individuo(data):\n",
    "    individuo=[0 for _ in range(len(data))]\n",
    "    \n",
    "    numero_elementos=rand.randint(1,len(data)-1)\n",
    "    \n",
    "    elementos_agregados=0\n",
    "    while elementos_agregados < numero_elementos:\n",
    "        nodo_random= rand.randint(0,len(individuo)-1)\n",
    "        if individuo[nodo_random]==0:\n",
    "            individuo[nodo_random] = 1\n",
    "            elementos_agregados += 1\n",
    "            \n",
    "    return individuo\n",
    "\n",
    "ga.create_individual=crear_individuo"
   ]
  },
  {
   "cell_type": "code",
   "execution_count": null,
   "id": "1b4eff10",
   "metadata": {},
   "outputs": [],
   "source": [
    "def crossover(padre_1, padre_2):\n",
    "    idx_minimo= rand.randint(1,len(padre_1)-1)\n",
    "    hijo_1 = padre_1[:idx_minimo] + padre_2[idx_minimo:]\n",
    "    hijo_2 = padre_1[idx_minimo:] + padre_2[:idx_minimo]\n",
    "    return hijo_1,hijo_2  \n",
    "\n",
    "def mutacion(individuo):\n",
    "    indice_mutar = rand.randint(0,len(individuo)-1)\n",
    "    if individuo[indice_mutar]==0:\n",
    "        individuo[indice_mutar]=1\n",
    "    else:\n",
    "        individuo[indice_mutar]=0\n",
    "            \n",
    "def selection(population):\n",
    "    return rand.choice(population)\n",
    "\n",
    "ga.crossover_function=crossover\n",
    "ga.mutate_function=mutacion\n",
    "ga.selection_function=selection\n"
   ]
  },
  {
   "cell_type": "code",
   "execution_count": null,
   "id": "2c678102",
   "metadata": {},
   "outputs": [],
   "source": [
    "def fitness(individual, data):\n",
    "    # Obtener todos los nodos activados\n",
    "    nodos_activos = []\n",
    "    \n",
    "    for i in range(len(individual)):\n",
    "        if individual[i] == 1:\n",
    "            nodos_activos.append(i)\n",
    "    \n",
    "    # Si hay menos de 2 nodos activados, si es un clique\n",
    "    if len(nodos_activos) < 2:\n",
    "        return len(nodos_activos)\n",
    "    penalizacion=0\n",
    "    # Verificar que cada par de nodos activos esté conectado\n",
    "    for i in range(len(nodos_activos)):\n",
    "        for j in range(i + 1, len(nodos_activos)):\n",
    "            if nodos_activos[j] not in data[nodos_activos[i]] or nodos_activos[i] not in data[nodos_activos[j]]:\n",
    "                # Si falta al menos una conexión, no es un clique\n",
    "                return 0\n",
    "                \n",
    "    # Si se cumple la condición de clique se retorna su tamaño\n",
    "    return len(nodos_activos)"
   ]
  },
  {
   "cell_type": "code",
   "execution_count": 32,
   "id": "17b7b54b",
   "metadata": {},
   "outputs": [],
   "source": [
    "def fitness2(individual, data):\n",
    "    # Obtener todos los nodos activados\n",
    "    nodos_activos = []\n",
    "    \n",
    "    for i in range(len(individual)):\n",
    "        if individual[i] == 1:\n",
    "            nodos_activos.append(i)\n",
    "    \n",
    "\n",
    "    penalizacion=0\n",
    "    # Verificar que cada par de nodos activos esté conectado\n",
    "    conexiones={}    \n",
    "    for i in range(len(nodos_activos)):\n",
    "        for j in range(i+1,len(nodos_activos)):\n",
    "            if nodos_activos[i] not in grafo[nodos_activos[j]] and (nodos_activos[i],nodos_activos[j]) not in conexiones and (nodos_activos[j],nodos_activos[i]) not in conexiones:\n",
    "                conexiones[(nodos_activos[i],nodos_activos[j])] = 1\n",
    "                penalizacion+=0.5\n",
    "    # Si se cumple la condición de clique se retorna su tamaño\n",
    "    return len(nodos_activos) - penalizacion"
   ]
  },
  {
   "cell_type": "code",
   "execution_count": 53,
   "id": "eccbde83",
   "metadata": {},
   "outputs": [],
   "source": [
    "input_recibido=input(\"Fitness 1 o fitness 2? (1/2): \")\n",
    "if input_recibido==\"1\":\n",
    "    ga.fitness_function=fitness\n",
    "else:\n",
    "    ga.fitness_function=fitness2"
   ]
  },
  {
   "cell_type": "code",
   "execution_count": 54,
   "id": "08b5ac3f",
   "metadata": {},
   "outputs": [],
   "source": [
    "ga.run()"
   ]
  },
  {
   "cell_type": "code",
   "execution_count": 55,
   "id": "d44b8ce6",
   "metadata": {},
   "outputs": [
    {
     "name": "stdout",
     "output_type": "stream",
     "text": [
      "Clique generado:  [5, 6, 11, 12, 13, 15, 20, 21, 24, 31, 32, 33, 34, 36, 37, 38, 43, 49, 52, 53, 61, 64, 67, 74, 76, 80, 81, 82, 84, 86]\n",
      "Nodos encontrados:  [5, 6, 11, 13, 15, 20, 21, 24, 31, 32, 33, 34, 37, 38, 43, 49, 52, 53, 61, 64, 67, 74, 76, 80, 81, 82, 84]\n",
      "Nodos comunes:  [5, 6, 11, 13, 15, 20, 21, 24, 31, 32, 33, 34, 37, 38, 43, 49, 52, 53, 61, 64, 67, 74, 76, 80, 81, 82, 84]  con  27  nodos\n"
     ]
    }
   ],
   "source": [
    "\n",
    "nodos_clique.sort()\n",
    "print(\"Clique generado: \",nodos_clique)\n",
    "nodos_encontrados=[]\n",
    "for i in range(len(ga.best_individual()[1])):\n",
    "    if ga.best_individual()[1][i]==1:\n",
    "        nodos_encontrados.append(i)\n",
    "print(\"Nodos encontrados: \", nodos_encontrados)\n",
    "list_comunes= []\n",
    "for i in nodos_clique:\n",
    "    if i in nodos_encontrados and i not in list_comunes:\n",
    "        list_comunes.append(i)\n",
    "print(\"Nodos comunes: \", list_comunes, \" con \", len(list_comunes), \" nodos\")"
   ]
  },
  {
   "cell_type": "markdown",
   "id": "f5f8830a",
   "metadata": {},
   "source": [
    "### Estadistica 🤓☝️"
   ]
  },
  {
   "cell_type": "code",
   "execution_count": 56,
   "id": "1f560407",
   "metadata": {},
   "outputs": [],
   "source": [
    "import pandas as pd\n",
    "def obtener_promedio(generacion:list):\n",
    "    suma=0\n",
    "    for i in range(len(generacion)):\n",
    "        suma+=generacion[i][0]\n",
    "    return suma/len(generacion)\n",
    "\n",
    "def crear_dataframe_avg_fitness(ga : galib.GeneticAlgorithm):\n",
    "    data = []\n",
    "    for i in range(len(ga.get_history())):\n",
    "        promedio_fitness=obtener_promedio(ga.get_history()[i])\n",
    "        data.append([i, promedio_fitness])\n",
    "    df = pd.DataFrame(data, columns=[\"Generacion\", \"Fitness\"])\n",
    "    return df\n",
    "\n",
    "def crear_dataframe_mejor_individuo(ga : galib.GeneticAlgorithm):\n",
    "    data = []\n",
    "    for i in range(len(ga.get_history())):\n",
    "        mejor_individuo=ga.get_history()[i][0]\n",
    "        data.append([i, mejor_individuo[0]])\n",
    "    df = pd.DataFrame(data, columns=[\"Generacion\", \"Fitness\"])\n",
    "    return df\n",
    "df_avg_fitness = crear_dataframe_avg_fitness(ga)\n",
    "df_mejor_individuo = crear_dataframe_mejor_individuo(ga)"
   ]
  },
  {
   "cell_type": "code",
   "execution_count": null,
   "id": "547ce50f",
   "metadata": {},
   "outputs": [
    {
     "data": {
      "image/png": "[encoded data removed]",
      "text/plain": [
       "<Figure size 640x480 with 1 Axes>"
      ]
     },
     "metadata": {},
     "output_type": "display_data"
    },
    {
     "data": {
      "image/png": "[encoded data removed]",
      "text/plain": [
       "<Figure size 640x480 with 1 Axes>"
      ]
     },
     "metadata": {},
     "output_type": "display_data"
    },
    {
     "ename": "",
     "evalue": "",
     "output_type": "error",
     "traceback": [
      "\u001b[1;31mThe Kernel crashed while executing code in the current cell or a previous cell. \n",
      "\u001b[1;31mPlease review the code in the cell(s) to identify a possible cause of the failure. \n",
      "\u001b[1;31mClick <a href='https://aka.ms/vscodeJupyterKernelCrash'>here</a> for more info. \n",
      "\u001b[1;31mView Jupyter <a href='command:jupyter.viewOutput'>log</a> for further details."
     ]
    }
   ],
   "source": [
    "import matplotlib.pyplot as plt\n",
    "def graficar_avg_fitness(df_avg_fitness):\n",
    "    plt.plot(df_avg_fitness[\"Generacion\"], df_avg_fitness[\"Fitness\"])\n",
    "    plt.title(\"Promedio de fitness por generación\")\n",
    "    plt.xlabel(\"Generación\")\n",
    "    plt.ylabel(\"Promedio de fitness\")\n",
    "    plt.show()\n",
    "graficar_avg_fitness(df_avg_fitness)\n",
    "def graficar_mejor_individuo(df_mejor_individuo):\n",
    "    plt.plot(df_mejor_individuo[\"Generacion\"], df_mejor_individuo[\"Fitness\"])\n",
    "    plt.title(\"Mejor individuo por generación\")\n",
    "    plt.xlabel(\"Generación\")\n",
    "    plt.ylabel(\"Mejor fitness\")\n",
    "    plt.show()\n",
    "graficar_mejor_individuo(df_mejor_individuo)"
   ]
  }
 ],
 "metadata": {
  "kernelspec": {
   "display_name": "Python 3",
   "language": "python",
   "name": "python3"
  },
  "language_info": {
   "codemirror_mode": {
    "name": "ipython",
    "version": 3
   },
   "file_extension": ".py",
   "mimetype": "text/x-python",
   "name": "python",
   "nbconvert_exporter": "python",
   "pygments_lexer": "ipython3",
   "version": "3.13.2"
  }
 },
 "nbformat": 4,
 "nbformat_minor": 5
}
