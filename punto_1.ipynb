{
 "cells": [
  {
   "cell_type": "code",
   "execution_count": null,
   "id": "1afa020a",
   "metadata": {},
   "outputs": [],
   "source": [
    "def verificar(subcadenas:list, cadena:str, cota:int)->bool:\n",
    "    if len(cadena) > cota:\n",
    "        return False\n",
    "    for subcadena in subcadenas:\n",
    "        if subcadena not in cadena:\n",
    "            return False\n",
    "    return True"
   ]
  },
  {
   "cell_type": "code",
   "execution_count": 37,
   "id": "f969f725",
   "metadata": {},
   "outputs": [
    {
     "name": "stdout",
     "output_type": "stream",
     "text": [
      "confid\n"
     ]
    }
   ],
   "source": [
    "def obtener_concatenacion(string_1:str, string_2:str):\n",
    "    # Obtener el sufijo de string_1 que coincide con el prefijo de string_2\n",
    "    for i in range(len(string_1)):\n",
    "        if string_2.startswith(string_1[i:]):\n",
    "            return string_1 + string_2[len(string_1[i:]):]\n",
    "    \n",
    "    # Obtener el prefijo de string_2 que coincide con el sufijo de string_1\n",
    "    for i in range(len(string_2)):\n",
    "        if string_1.startswith(string_2[i:]):\n",
    "            return string_2 + string_1[len(string_2[i:]):]\n",
    "    \n",
    "    # Si no hay coincidencias, concatenar ambos strings\n",
    "    return string_1 + string_2\n",
    "\n",
    "print(obtener_concatenacion(\"nfid\",\"confi\"))\n",
    "         "
   ]
  },
  {
   "cell_type": "code",
   "execution_count": 39,
   "id": "8b81adc3",
   "metadata": {},
   "outputs": [
    {
     "name": "stdout",
     "output_type": "stream",
     "text": [
      "\n"
     ]
    }
   ],
   "source": [
    "import sys\n",
    "sys.setrecursionlimit(10000)  # Evita usar límites extremadamente altos\n",
    "def generar_estados(subcadenas: list, cadena_actual: str,concatenaciones_vistas: list):\n",
    "        \n",
    "    for subcadena in subcadenas:\n",
    "        if subcadena not in cadena_actual:\n",
    "            nueva_cadena=obtener_concatenacion(cadena_actual,subcadena)\n",
    "            if nueva_cadena not in concatenaciones_vistas:\n",
    "                concatenaciones_vistas.append(nueva_cadena)\n",
    "                generar_estados(subcadenas,nueva_cadena,concatenaciones_vistas)\n",
    "    return cadena_actual\n",
    "        \n",
    "    \n",
    "\n",
    "def cosa(subcadenas: list):\n",
    "    cadena=\"\"\n",
    "    generar_estados(subcadenas, cadena,[])\n",
    "    return cadena\n",
    "\n",
    "# Corrige la lista de subcadenas\n",
    "print(cosa([\"nfid\", \"conf\", \"cial\", \"denc\", \"onfi\", \"enci\"]))\n"
   ]
  }
 ],
 "metadata": {
  "kernelspec": {
   "display_name": "Python 3",
   "language": "python",
   "name": "python3"
  },
  "language_info": {
   "codemirror_mode": {
    "name": "ipython",
    "version": 3
   },
   "file_extension": ".py",
   "mimetype": "text/x-python",
   "name": "python",
   "nbconvert_exporter": "python",
   "pygments_lexer": "ipython3",
   "version": "3.13.2"
  }
 },
 "nbformat": 4,
 "nbformat_minor": 5
}
