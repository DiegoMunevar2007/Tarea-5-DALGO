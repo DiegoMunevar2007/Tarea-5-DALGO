{
 "cells": [
  {
   "cell_type": "code",
   "execution_count": 2,
   "id": "1afa020a",
   "metadata": {},
   "outputs": [],
   "source": [
    "def verificar(subcadenas:list, cadena:str, cota:int)->bool:\n",
    "    if len(cadena) > cota:\n",
    "        return False\n",
    "    for subcadena in subcadenas:\n",
    "        if subcadena not in cadena:\n",
    "            return False\n",
    "    return True"
   ]
  },
  {
   "cell_type": "code",
   "execution_count": 3,
   "id": "f969f725",
   "metadata": {},
   "outputs": [
    {
     "name": "stdout",
     "output_type": "stream",
     "text": [
      "confid\n"
     ]
    }
   ],
   "source": [
    "def obtener_concatenacion(string_1:str, string_2:str):\n",
    "    # Sufijo de string_1 con prefijo de string_2 Ej: conf, nfid -> confid\n",
    "    for i in range(len(string_1)):\n",
    "        if string_2.startswith(string_1[i:]):\n",
    "            return string_1 + string_2[len(string_1[i:]):]\n",
    "    \n",
    "    # Sufijo de string_2 con prefijo de string_1, Ej: cial, enci -> encial\n",
    "    for i in range(len(string_2)):\n",
    "        if string_1.startswith(string_2[i:]):\n",
    "            return string_2 + string_1[len(string_2[i:]):]\n",
    "    \n",
    "    # Si no hay coincidencias, concatenar ambos strings\n",
    "    return string_1 + string_2\n",
    "\n",
    "print(obtener_concatenacion(\"nfid\",\"confi\"))\n",
    "         "
   ]
  },
  {
   "cell_type": "code",
   "execution_count": 1,
   "id": "8b81adc3",
   "metadata": {},
   "outputs": [
    {
     "ename": "NameError",
     "evalue": "name 'verificar' is not defined",
     "output_type": "error",
     "traceback": [
      "\u001b[1;31m---------------------------------------------------------------------------\u001b[0m",
      "\u001b[1;31mNameError\u001b[0m                                 Traceback (most recent call last)",
      "Cell \u001b[1;32mIn[1], line 26\u001b[0m\n\u001b[0;32m     23\u001b[0m     cadena_generada\u001b[38;5;241m=\u001b[39m generar_estados(subcadenas, cadena,{}, cota)\n\u001b[0;32m     24\u001b[0m     \u001b[38;5;28;01mreturn\u001b[39;00m cadena_generada\n\u001b[1;32m---> 26\u001b[0m \u001b[38;5;28mprint\u001b[39m(\u001b[43mdecision_subcadenas\u001b[49m\u001b[43m(\u001b[49m\u001b[43m[\u001b[49m\u001b[38;5;124;43m\"\u001b[39;49m\u001b[38;5;124;43maab\u001b[39;49m\u001b[38;5;124;43m\"\u001b[39;49m\u001b[43m,\u001b[49m\u001b[38;5;124;43m\"\u001b[39;49m\u001b[38;5;124;43mbaa\u001b[39;49m\u001b[38;5;124;43m\"\u001b[39;49m\u001b[43m,\u001b[49m\u001b[38;5;124;43m\"\u001b[39;49m\u001b[38;5;124;43maaa\u001b[39;49m\u001b[38;5;124;43m\"\u001b[39;49m\u001b[43m,\u001b[49m\u001b[38;5;124;43m\"\u001b[39;49m\u001b[38;5;124;43mbbb\u001b[39;49m\u001b[38;5;124;43m\"\u001b[39;49m\u001b[43m]\u001b[49m\u001b[43m,\u001b[49m\u001b[38;5;241;43m7\u001b[39;49m\u001b[43m)\u001b[49m)\n\u001b[0;32m     27\u001b[0m \u001b[38;5;28mprint\u001b[39m(string_encontrado, \u001b[38;5;28mlen\u001b[39m(string_encontrado))\n\u001b[0;32m     28\u001b[0m string_encontrado\u001b[38;5;241m=\u001b[39m\u001b[38;5;124m\"\u001b[39m\u001b[38;5;124m\"\u001b[39m\n",
      "Cell \u001b[1;32mIn[1], line 23\u001b[0m, in \u001b[0;36mdecision_subcadenas\u001b[1;34m(subcadenas, cota)\u001b[0m\n\u001b[0;32m     21\u001b[0m \u001b[38;5;28;01mdef\u001b[39;00m \u001b[38;5;21mdecision_subcadenas\u001b[39m(subcadenas: \u001b[38;5;28mlist\u001b[39m,cota:\u001b[38;5;28mint\u001b[39m):\n\u001b[0;32m     22\u001b[0m     cadena\u001b[38;5;241m=\u001b[39m\u001b[38;5;124m\"\u001b[39m\u001b[38;5;124m\"\u001b[39m\n\u001b[1;32m---> 23\u001b[0m     cadena_generada\u001b[38;5;241m=\u001b[39m \u001b[43mgenerar_estados\u001b[49m\u001b[43m(\u001b[49m\u001b[43msubcadenas\u001b[49m\u001b[43m,\u001b[49m\u001b[43m \u001b[49m\u001b[43mcadena\u001b[49m\u001b[43m,\u001b[49m\u001b[43m{\u001b[49m\u001b[43m}\u001b[49m\u001b[43m,\u001b[49m\u001b[43m \u001b[49m\u001b[43mcota\u001b[49m\u001b[43m)\u001b[49m\n\u001b[0;32m     24\u001b[0m     \u001b[38;5;28;01mreturn\u001b[39;00m cadena_generada\n",
      "Cell \u001b[1;32mIn[1], line 7\u001b[0m, in \u001b[0;36mgenerar_estados\u001b[1;34m(subcadenas, cadena_actual, concatenaciones_vistas, cota)\u001b[0m\n\u001b[0;32m      4\u001b[0m \u001b[38;5;28;01mdef\u001b[39;00m \u001b[38;5;21mgenerar_estados\u001b[39m(subcadenas: \u001b[38;5;28mlist\u001b[39m, cadena_actual: \u001b[38;5;28mstr\u001b[39m,concatenaciones_vistas: \u001b[38;5;28mdict\u001b[39m, cota:\u001b[38;5;28mint\u001b[39m):\n\u001b[0;32m      5\u001b[0m     \u001b[38;5;28;01mglobal\u001b[39;00m string_encontrado\n\u001b[1;32m----> 7\u001b[0m     \u001b[38;5;28;01mif\u001b[39;00m \u001b[43mverificar\u001b[49m(subcadenas,cadena_actual,cota):\n\u001b[0;32m      8\u001b[0m         string_encontrado\u001b[38;5;241m=\u001b[39mcadena_actual\n\u001b[0;32m      9\u001b[0m         \u001b[38;5;28;01mreturn\u001b[39;00m \u001b[38;5;28;01mTrue\u001b[39;00m\n",
      "\u001b[1;31mNameError\u001b[0m: name 'verificar' is not defined"
     ]
    }
   ],
   "source": [
    "import sys\n",
    "sys.setrecursionlimit(10000)  \n",
    "string_encontrado=\"\"\n",
    "def generar_estados(subcadenas: list, cadena_actual: str,concatenaciones_vistas: dict, cota:int):\n",
    "    global string_encontrado\n",
    "    \n",
    "    if verificar(subcadenas,cadena_actual,cota):\n",
    "        string_encontrado=cadena_actual\n",
    "        return True\n",
    "        \n",
    "    if len(cadena_actual)<cota:\n",
    "        concatenaciones_vistas[cadena_actual]=True\n",
    "        for subcadena in subcadenas:\n",
    "            if subcadena not in cadena_actual:\n",
    "                nueva_cadena=obtener_concatenacion(cadena_actual,subcadena) #Nueva cadena que combina lo que tengo con un nuevo substring\n",
    "                if nueva_cadena not in concatenaciones_vistas:\n",
    "                    if generar_estados(subcadenas,nueva_cadena,concatenaciones_vistas, cota):\n",
    "                        return True\n",
    "\n",
    "    return False \n",
    "def decision_subcadenas(subcadenas: list,cota:int):\n",
    "    cadena=\"\"\n",
    "    cadena_generada= generar_estados(subcadenas, cadena,{}, cota)\n",
    "    return cadena_generada\n",
    "\n",
    "print(decision_subcadenas([\"aab\",\"baa\",\"aaa\",\"bbb\"],7))\n",
    "print(string_encontrado, len(string_encontrado))\n",
    "string_encontrado=\"\"\n",
    "print(decision_subcadenas([\"nfid\",\"conf\",\"cial\",\"denc\",\"onfi\",\"enci\",],12))\n",
    "print(string_encontrado, len(string_encontrado))\n",
    "string_encontrado=\"\"\n",
    "print(decision_subcadenas(['diegoe', 'creibl', 'iblead', 'goesin', 'eadios', 'sincre'], 21))\n",
    "print(string_encontrado, len(string_encontrado))\n",
    "string_encontrado=\"\"\n",
    "print(decision_subcadenas(['goesin', 'soport', 'diegoe', 'quesop', 'eadios', 'sincre', 'ylaque', 'orteuw', 'iblead', 'iosyla', 'creibl','sopo'],34))\n",
    "print(string_encontrado, len(string_encontrado))\n",
    "string_encontrado=\"\"\n",
    "print(decision_subcadenas(['uabcde', 'iosyla', 'diegoe', 'soport', 'ylaque', 'iblead', 'sincre', 'ijklmo', 'quesop', 'lmopqr', 'euwuab', 'fghijk', 'pqrstu', 'stuvwx', 'vwxyz', 'orteuw', 'goesin', 'creibl', 'cdefgh', 'eadios'],62))\n",
    "print(string_encontrado, len(string_encontrado))\n"
   ]
  },
  {
   "cell_type": "code",
   "execution_count": null,
   "id": "31aedaf9",
   "metadata": {},
   "outputs": [
    {
     "name": "stdout",
     "output_type": "stream",
     "text": [
      "bbbaaab\n",
      "confidencial\n",
      "diegoesincreibleadios\n"
     ]
    },
    {
     "ename": "KeyboardInterrupt",
     "evalue": "",
     "output_type": "error",
     "traceback": [
      "\u001b[1;31m---------------------------------------------------------------------------\u001b[0m",
      "\u001b[1;31mKeyboardInterrupt\u001b[0m                         Traceback (most recent call last)",
      "Cell \u001b[1;32mIn[12], line 29\u001b[0m\n\u001b[0;32m     27\u001b[0m \u001b[38;5;28mprint\u001b[39m(bfs([\u001b[38;5;124m\"\u001b[39m\u001b[38;5;124mnfid\u001b[39m\u001b[38;5;124m\"\u001b[39m, \u001b[38;5;124m\"\u001b[39m\u001b[38;5;124mconf\u001b[39m\u001b[38;5;124m\"\u001b[39m, \u001b[38;5;124m\"\u001b[39m\u001b[38;5;124mcial\u001b[39m\u001b[38;5;124m\"\u001b[39m, \u001b[38;5;124m\"\u001b[39m\u001b[38;5;124mdenc\u001b[39m\u001b[38;5;124m\"\u001b[39m, \u001b[38;5;124m\"\u001b[39m\u001b[38;5;124monfi\u001b[39m\u001b[38;5;124m\"\u001b[39m, \u001b[38;5;124m\"\u001b[39m\u001b[38;5;124menci\u001b[39m\u001b[38;5;124m\"\u001b[39m], \u001b[38;5;241m12\u001b[39m))\n\u001b[0;32m     28\u001b[0m \u001b[38;5;28mprint\u001b[39m(bfs([\u001b[38;5;124m'\u001b[39m\u001b[38;5;124mdiegoe\u001b[39m\u001b[38;5;124m'\u001b[39m, \u001b[38;5;124m'\u001b[39m\u001b[38;5;124mcreibl\u001b[39m\u001b[38;5;124m'\u001b[39m, \u001b[38;5;124m'\u001b[39m\u001b[38;5;124miblead\u001b[39m\u001b[38;5;124m'\u001b[39m, \u001b[38;5;124m'\u001b[39m\u001b[38;5;124mgoesin\u001b[39m\u001b[38;5;124m'\u001b[39m, \u001b[38;5;124m'\u001b[39m\u001b[38;5;124meadios\u001b[39m\u001b[38;5;124m'\u001b[39m, \u001b[38;5;124m'\u001b[39m\u001b[38;5;124msincre\u001b[39m\u001b[38;5;124m'\u001b[39m], \u001b[38;5;241m21\u001b[39m))\n\u001b[1;32m---> 29\u001b[0m \u001b[38;5;28mprint\u001b[39m(\u001b[43mbfs\u001b[49m\u001b[43m(\u001b[49m\u001b[43m[\u001b[49m\u001b[38;5;124;43m'\u001b[39;49m\u001b[38;5;124;43mgoesin\u001b[39;49m\u001b[38;5;124;43m'\u001b[39;49m\u001b[43m,\u001b[49m\u001b[43m \u001b[49m\u001b[38;5;124;43m'\u001b[39;49m\u001b[38;5;124;43msoport\u001b[39;49m\u001b[38;5;124;43m'\u001b[39;49m\u001b[43m,\u001b[49m\u001b[43m \u001b[49m\u001b[38;5;124;43m'\u001b[39;49m\u001b[38;5;124;43mdiegoe\u001b[39;49m\u001b[38;5;124;43m'\u001b[39;49m\u001b[43m,\u001b[49m\u001b[43m \u001b[49m\u001b[38;5;124;43m'\u001b[39;49m\u001b[38;5;124;43mquesop\u001b[39;49m\u001b[38;5;124;43m'\u001b[39;49m\u001b[43m,\u001b[49m\u001b[43m \u001b[49m\u001b[38;5;124;43m'\u001b[39;49m\u001b[38;5;124;43meadios\u001b[39;49m\u001b[38;5;124;43m'\u001b[39;49m\u001b[43m,\u001b[49m\u001b[43m \u001b[49m\u001b[38;5;124;43m'\u001b[39;49m\u001b[38;5;124;43msincre\u001b[39;49m\u001b[38;5;124;43m'\u001b[39;49m\u001b[43m,\u001b[49m\u001b[43m \u001b[49m\u001b[38;5;124;43m'\u001b[39;49m\u001b[38;5;124;43mylaque\u001b[39;49m\u001b[38;5;124;43m'\u001b[39;49m\u001b[43m,\u001b[49m\u001b[43m \u001b[49m\u001b[38;5;124;43m'\u001b[39;49m\u001b[38;5;124;43morteuw\u001b[39;49m\u001b[38;5;124;43m'\u001b[39;49m\u001b[43m,\u001b[49m\u001b[43m \u001b[49m\u001b[38;5;124;43m'\u001b[39;49m\u001b[38;5;124;43miblead\u001b[39;49m\u001b[38;5;124;43m'\u001b[39;49m\u001b[43m,\u001b[49m\u001b[43m \u001b[49m\u001b[38;5;124;43m'\u001b[39;49m\u001b[38;5;124;43miosyla\u001b[39;49m\u001b[38;5;124;43m'\u001b[39;49m\u001b[43m,\u001b[49m\u001b[43m \u001b[49m\u001b[38;5;124;43m'\u001b[39;49m\u001b[38;5;124;43mcreibl\u001b[39;49m\u001b[38;5;124;43m'\u001b[39;49m\u001b[43m]\u001b[49m\u001b[43m,\u001b[49m\u001b[38;5;241;43m45\u001b[39;49m\u001b[43m)\u001b[49m)\n\u001b[0;32m     30\u001b[0m \u001b[38;5;28mprint\u001b[39m(bfs([\u001b[38;5;124m'\u001b[39m\u001b[38;5;124muabcde\u001b[39m\u001b[38;5;124m'\u001b[39m, \u001b[38;5;124m'\u001b[39m\u001b[38;5;124miosyla\u001b[39m\u001b[38;5;124m'\u001b[39m, \u001b[38;5;124m'\u001b[39m\u001b[38;5;124mdiegoe\u001b[39m\u001b[38;5;124m'\u001b[39m, \u001b[38;5;124m'\u001b[39m\u001b[38;5;124msoport\u001b[39m\u001b[38;5;124m'\u001b[39m, \u001b[38;5;124m'\u001b[39m\u001b[38;5;124mylaque\u001b[39m\u001b[38;5;124m'\u001b[39m, \u001b[38;5;124m'\u001b[39m\u001b[38;5;124miblead\u001b[39m\u001b[38;5;124m'\u001b[39m, \u001b[38;5;124m'\u001b[39m\u001b[38;5;124msincre\u001b[39m\u001b[38;5;124m'\u001b[39m, \u001b[38;5;124m'\u001b[39m\u001b[38;5;124mijklmo\u001b[39m\u001b[38;5;124m'\u001b[39m, \u001b[38;5;124m'\u001b[39m\u001b[38;5;124mquesop\u001b[39m\u001b[38;5;124m'\u001b[39m, \u001b[38;5;124m'\u001b[39m\u001b[38;5;124mlmopqr\u001b[39m\u001b[38;5;124m'\u001b[39m, \u001b[38;5;124m'\u001b[39m\u001b[38;5;124meuwuab\u001b[39m\u001b[38;5;124m'\u001b[39m, \u001b[38;5;124m'\u001b[39m\u001b[38;5;124mfghijk\u001b[39m\u001b[38;5;124m'\u001b[39m, \u001b[38;5;124m'\u001b[39m\u001b[38;5;124mpqrstu\u001b[39m\u001b[38;5;124m'\u001b[39m, \u001b[38;5;124m'\u001b[39m\u001b[38;5;124mstuvwx\u001b[39m\u001b[38;5;124m'\u001b[39m, \u001b[38;5;124m'\u001b[39m\u001b[38;5;124mvwxyz\u001b[39m\u001b[38;5;124m'\u001b[39m, \u001b[38;5;124m'\u001b[39m\u001b[38;5;124morteuw\u001b[39m\u001b[38;5;124m'\u001b[39m, \u001b[38;5;124m'\u001b[39m\u001b[38;5;124mgoesin\u001b[39m\u001b[38;5;124m'\u001b[39m, \u001b[38;5;124m'\u001b[39m\u001b[38;5;124mcreibl\u001b[39m\u001b[38;5;124m'\u001b[39m, \u001b[38;5;124m'\u001b[39m\u001b[38;5;124mcdefgh\u001b[39m\u001b[38;5;124m'\u001b[39m, \u001b[38;5;124m'\u001b[39m\u001b[38;5;124meadios\u001b[39m\u001b[38;5;124m'\u001b[39m],\u001b[38;5;241m62\u001b[39m))\n",
      "Cell \u001b[1;32mIn[12], line 12\u001b[0m, in \u001b[0;36mbfs\u001b[1;34m(subcadenas, cota)\u001b[0m\n\u001b[0;32m      9\u001b[0m cadena_actual, concatenaciones_vistas \u001b[38;5;241m=\u001b[39m queue\u001b[38;5;241m.\u001b[39mpop(\u001b[38;5;241m0\u001b[39m)\n\u001b[0;32m     11\u001b[0m \u001b[38;5;66;03m# Verificar si la cadena actual cumple las condiciones\u001b[39;00m\n\u001b[1;32m---> 12\u001b[0m \u001b[38;5;28;01mif\u001b[39;00m \u001b[43mverificar\u001b[49m\u001b[43m(\u001b[49m\u001b[43msubcadenas\u001b[49m\u001b[43m,\u001b[49m\u001b[43m \u001b[49m\u001b[43mcadena_actual\u001b[49m\u001b[43m,\u001b[49m\u001b[43m \u001b[49m\u001b[43mcota\u001b[49m\u001b[43m)\u001b[49m:\n\u001b[0;32m     13\u001b[0m     \u001b[38;5;28;01mreturn\u001b[39;00m cadena_actual\n\u001b[0;32m     15\u001b[0m \u001b[38;5;66;03m# Generar nuevos estados\u001b[39;00m\n",
      "Cell \u001b[1;32mIn[2], line 1\u001b[0m, in \u001b[0;36mverificar\u001b[1;34m(subcadenas, cadena, cota)\u001b[0m\n\u001b[1;32m----> 1\u001b[0m \u001b[38;5;28;01mdef\u001b[39;00m \u001b[38;5;21mverificar\u001b[39m(subcadenas:\u001b[38;5;28mlist\u001b[39m, cadena:\u001b[38;5;28mstr\u001b[39m, cota:\u001b[38;5;28mint\u001b[39m)\u001b[38;5;241m-\u001b[39m\u001b[38;5;241m>\u001b[39m\u001b[38;5;28mbool\u001b[39m:\n\u001b[0;32m      2\u001b[0m     \u001b[38;5;28;01mif\u001b[39;00m \u001b[38;5;28mlen\u001b[39m(cadena) \u001b[38;5;241m>\u001b[39m cota:\n\u001b[0;32m      3\u001b[0m         \u001b[38;5;28;01mreturn\u001b[39;00m \u001b[38;5;28;01mFalse\u001b[39;00m\n",
      "\u001b[1;31mKeyboardInterrupt\u001b[0m: "
     ]
    }
   ],
   "source": [
    "def bfs(subcadenas: list, cota: int) -> str:\n",
    "    queue = []\n",
    "    queue.append((\"\", set()))  \n",
    "\n",
    "    while len(queue)>0:\n",
    "        cadena_actual, concatenaciones_vistas = queue.pop(0)\n",
    "        if verificar(subcadenas, cadena_actual, cota):\n",
    "            return cadena_actual\n",
    "        \n",
    "        for subcadena in subcadenas:\n",
    "            if subcadena not in cadena_actual:\n",
    "                nueva_cadena = obtener_concatenacion(cadena_actual, subcadena)\n",
    "                if nueva_cadena not in concatenaciones_vistas and len(nueva_cadena) <= cota:\n",
    "                    concatenaciones_vistas.add(nueva_cadena)\n",
    "                    queue.append((nueva_cadena, concatenaciones_vistas.copy()))\n",
    "\n",
    "    return None  # Si no se encuentra solución\n",
    "\n",
    "# Ejemplo de uso\n",
    "print(bfs([\"aab\", \"baa\", \"aaa\", \"bbb\"], 7))\n",
    "print(bfs([\"nfid\", \"conf\", \"cial\", \"denc\", \"onfi\", \"enci\"], 12))\n",
    "print(bfs(['diegoe', 'creibl', 'iblead', 'goesin', 'eadios', 'sincre'], 21))\n",
    "print(bfs(['goesin', 'soport', 'diegoe', 'quesop', 'eadios', 'sincre', 'ylaque', 'orteuw', 'iblead', 'iosyla', 'creibl'],45))\n",
    "print(bfs(['uabcde', 'iosyla', 'diegoe', 'soport', 'ylaque', 'iblead', 'sincre', 'ijklmo', 'quesop', 'lmopqr', 'euwuab', 'fghijk', 'pqrstu', 'stuvwx', 'vwxyz', 'orteuw', 'goesin', 'creibl', 'cdefgh', 'eadios'],62))"
   ]
  },
  {
   "cell_type": "code",
   "execution_count": null,
   "id": "bf4e00ed",
   "metadata": {},
   "outputs": [
    {
     "name": "stdout",
     "output_type": "stream",
     "text": [
      "62\n",
      "['uabcde', 'iosyla', 'diegoe', 'soport', 'ylaque', 'iblead', 'sincre', 'ijklmo', 'quesop', 'lmopqr', 'euwuab', 'fghijk', 'pqrstu', 'stuvwx', 'vwxyz', 'orteuw', 'goesin', 'creibl', 'cdefgh', 'eadios']\n"
     ]
    }
   ],
   "source": [
    "import random\n",
    "\n",
    "s = \"diegoesincreibleadiosquesowuabcdefghijklmopqrstuvwxyz\"\n",
    "print(len(s))\n",
    "# Substrings de longitud 5 con solapamiento de 2 caracteres\n",
    "substrings = [s[i:i+6] for i in range(0, len(s)-4, 3)]\n",
    "\n",
    "# Mezclar el orden aleatoriamente\n",
    "random.shuffle(substrings)\n",
    "\n",
    "print(substrings)"
   ]
  }
 ],
 "metadata": {
  "kernelspec": {
   "display_name": "Python 3",
   "language": "python",
   "name": "python3"
  },
  "language_info": {
   "codemirror_mode": {
    "name": "ipython",
    "version": 3
   },
   "file_extension": ".py",
   "mimetype": "text/x-python",
   "name": "python",
   "nbconvert_exporter": "python",
   "pygments_lexer": "ipython3",
   "version": "3.13.2"
  }
 },
 "nbformat": 4,
 "nbformat_minor": 5
}
